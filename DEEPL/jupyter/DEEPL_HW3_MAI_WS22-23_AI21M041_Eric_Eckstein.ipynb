{
 "cells": [
  {
   "cell_type": "code",
   "execution_count": 1,
   "id": "ebd3105c-a05f-4576-93e0-37a534eff31e",
   "metadata": {},
   "outputs": [],
   "source": [
    "import pickle\n",
    "import os"
   ]
  },
  {
   "cell_type": "code",
   "execution_count": 2,
   "id": "4cb9b292-1f82-4ce7-a5c9-bf5a177be1a3",
   "metadata": {},
   "outputs": [],
   "source": [
    "def unpickle(file):\n",
    "    import pickle\n",
    "    with open(file, 'rb') as fo:\n",
    "        dict = pickle.load(fo, encoding='bytes')\n",
    "    return dict"
   ]
  },
  {
   "cell_type": "code",
   "execution_count": null,
   "id": "51bac119",
   "metadata": {},
   "outputs": [],
   "source": []
  },
  {
   "cell_type": "markdown",
   "id": "5c22849a-c5df-494a-ab5e-0e167fcc0da7",
   "metadata": {},
   "source": [
    "### Download data\n",
    "\n",
    "Go to https://www.cs.toronto.edu/~kriz/cifar.html and download the python version of the cifar dataset.\n",
    "You should be able to read the data with the function below"
   ]
  },
  {
   "cell_type": "code",
   "execution_count": 3,
   "id": "0d543b36-4323-4e52-99e2-cfc203c29710",
   "metadata": {},
   "outputs": [],
   "source": [
    "notebook_path = os.path.abspath(\"A3.ipynb\")\n",
    "folder = os.path.join(os.path.dirname(notebook_path), \"cifar-10-batches-py\")\n",
    "\n",
    "# file paths\n",
    "train_val_data = []\n",
    "test_data = None\n",
    "for fname in os.listdir(folder):\n",
    "    if 'data_batch' in fname:\n",
    "        ret = unpickle(os.path.join(folder,fname))\n",
    "        train_val_data.append(ret)\n",
    "    elif 'test' in fname:\n",
    "        ret = unpickle(os.path.join(folder,fname))\n",
    "        test_data = ret"
   ]
  },
  {
   "cell_type": "markdown",
   "id": "0361298d-fb32-4c0b-b0e9-be39ffa9811e",
   "metadata": {},
   "source": [
    "# Implement a Pytorch Dataset for Cifar10\n",
    "\n",
    "A[1] - A[5]\n",
    "- pass the necessary data at object instantiation (how you do it is your own choice!)\n",
    "- implement method to get the length of the dataset\n",
    "- implment the __getitem__ method\n",
    "    + the datset should return torch float tensors\n",
    "    + the tensors should be normalized between 0 and 1\n",
    "    + __getitem__ should return an image and the respective label\n",
    "\n",
    "each of the steps above counts as 1 point i.e. the implementation in total is 5 points"
   ]
  },
  {
   "cell_type": "code",
   "execution_count": 4,
   "id": "5b31d002",
   "metadata": {},
   "outputs": [],
   "source": [
    "# imports necessary:\n",
    "\n",
    "import torch\n",
    "import torch.nn as nn\n",
    "import torch.nn.functional as F\n",
    "import torch.optim as optim\n",
    "from torch.utils.data import Dataset, DataLoader\n",
    "from torchvision import datasets, transforms\n",
    "from torch.optim.lr_scheduler import StepLR\n",
    "from torch.nn import CrossEntropyLoss\n",
    "\n",
    "import os\n",
    "import pandas\n",
    "import numpy as np\n",
    "\n",
    "from typing import Tuple\n",
    "\n",
    "import matplotlib.pyplot as plt"
   ]
  },
  {
   "cell_type": "code",
   "execution_count": 22,
   "id": "d171d501-cdd1-4617-9252-a652849a7a67",
   "metadata": {},
   "outputs": [],
   "source": [
    "class Cifar10Dset(Dataset):\n",
    "    def __init__(self, images: np.array, labels: np.array) -> None:\n",
    "        self.images = torch.tensor(images)/255\n",
    "        self.labels = torch.tensor(labels).type(torch.LongTensor)    \n",
    "        self.num_samples = len(self.labels)  \n",
    "        # std. deriv. normalization\n",
    "        self._normalize()\n",
    "        \n",
    "    def __len__(self):\n",
    "        ret = self.num_samples\n",
    "        return ret\n",
    "        \n",
    "    \n",
    "    def __getitem__(self, idx:int) -> Tuple[torch.Tensor, torch.Tensor, int]: \n",
    "        image = self.images[idx]\n",
    "        label = self.labels[idx]\n",
    "        return image, label, idx \n",
    "    \n",
    "    def _normalize(self, mean: float=None, std: float=None):\n",
    "        if std is not None: \n",
    "            assert std > 0\n",
    "        '''Normalize data to nomral standard'''\n",
    "        self.images = self.images - self.images.mean() if mean is None else self.images - mean \n",
    "        self.images = self.images / (self.images.std()) if std == None else self.images / std\n",
    "        "
   ]
  },
  {
   "cell_type": "markdown",
   "id": "b8f23b42-b63a-4395-8c63-76ce534ddd3f",
   "metadata": {},
   "source": [
    "# Adapt the conv net from notebpook Nb2.C for cifar data\n",
    "\n",
    "The network below is taken from Nb2.C. However, it won't work with Cifar10 (hint: RGB!)\n",
    "\n",
    "A[6]\n",
    "\n",
    "-  Adapt the network below for Cifar10 data"
   ]
  },
  {
   "cell_type": "code",
   "execution_count": 23,
   "id": "5ca70576-0362-47fe-9d5a-df26e761721d",
   "metadata": {},
   "outputs": [],
   "source": [
    "class CNN(nn.Module):\n",
    "    def __init__(self):\n",
    "        super(CNN, self).__init__()\n",
    "        self.conv1 = nn.Sequential(         \n",
    "           # nn.Conv2d(in_channels=1,    \n",
    "            nn.Conv2d(in_channels=3,\n",
    "                      out_channels=16,            \n",
    "                      kernel_size=5,              \n",
    "                      stride=1,                   \n",
    "                      padding=2),                              \n",
    "            nn.ReLU(),                      \n",
    "            nn.MaxPool2d(kernel_size=2),    \n",
    "        )\n",
    "        self.conv2 = nn.Sequential(         \n",
    "            nn.Conv2d(16, 32, 5, 1, 2),     \n",
    "            nn.ReLU(),                      \n",
    "            nn.MaxPool2d(2),                \n",
    "        )\n",
    "        # fully connected layer, output 10 classes\n",
    "        self.out = nn.Linear(32*32*2, 10)\n",
    "        \n",
    "        self.is_conv = True\n",
    "        \n",
    "    def forward(self, x):\n",
    "        x = self.conv1(x)\n",
    "        x = self.conv2(x)\n",
    "        # flatten the output of conv2 to (batch_size, 32 * 7 * 7)\n",
    "        x = x.view(x.size(0), -1)       \n",
    "        output = self.out(x)\n",
    "        return output "
   ]
  },
  {
   "cell_type": "markdown",
   "id": "b6379f9d-c82f-45d9-8020-906f8b9ec9f0",
   "metadata": {},
   "source": [
    "# Create train/val split\n",
    "\n",
    "Similar to Nb2.C. create a train/val split of your choice. Leave the test data untouched!\n",
    "\n",
    "A[7]\n",
    "\n",
    "- split the training data into a train and validation part\n",
    "- for each part create one dataset and an respective data loader"
   ]
  },
  {
   "cell_type": "code",
   "execution_count": 42,
   "id": "2b2b409e-ee86-48af-98ce-1c5f824780a1",
   "metadata": {},
   "outputs": [],
   "source": [
    "# TODO: creat split, the respective datasets and dataloaders here (Hint: see notebook Nb.2.C)\n",
    "\n",
    "# CIFAR has 5*10k entries - so ~ 50k images \n",
    "# CIFAR provides a test_batch that contains 10k images which we use as val dataset\n",
    "train_data0 = train_val_data[0][b\"data\"]\n",
    "train_data1 = train_val_data[1][b\"data\"]\n",
    "train_data2 = train_val_data[2][b\"data\"]\n",
    "train_data3 = train_val_data[3][b\"data\"]\n",
    "train_data4 = train_val_data[4][b\"data\"]\n",
    "\n",
    "train_labels0 = train_val_data[0][b\"labels\"]\n",
    "train_labels1 = train_val_data[1][b\"labels\"]\n",
    "train_labels2 = train_val_data[2][b\"labels\"]\n",
    "train_labels3 = train_val_data[3][b\"labels\"]\n",
    "train_labels4 = train_val_data[4][b\"labels\"]\n",
    "\n",
    "concatTrainData = np.concatenate((train_data0,train_data1,train_data2,train_data3,train_data4))\n",
    "concatTrainLabels = np.concatenate((train_labels0,train_labels1,train_labels2,train_labels3,train_labels4))\n",
    "\n",
    "\n",
    "## Train split 80% so 40000 images with each having 3072 byte information (32*32 pixel * 3 channel RGB)\n",
    "## 32*32*3 * 40000 = 122880000\n",
    "## Problem: leider hat die Validate Funktion Probleme wenn ich versuche das entsprechend zu splitten\n",
    "#train_data = concatTrainData[40000]\n",
    "#train_labels = concatTrainLabels[:40000]\n",
    "train_data = train_data0[:8000]\n",
    "train_labels = train_labels0[:8000]\n",
    "train_dset = Cifar10Dset(images=train_data, labels=train_labels)\n",
    "train_loader = DataLoader(dataset=train_dset, batch_size=1, shuffle=True, num_workers=0)\n",
    "\n",
    "# val data\n",
    "#val_data = concatTrainData[40000:]\n",
    "#val_labels = concatTrainLabels[40000:]\n",
    "val_data = train_data0[8000:]\n",
    "val_labels = train_labels0[8000:]\n",
    "val_dset = Cifar10Dset(images=val_data, labels=val_labels)\n",
    "val_loader = DataLoader(dataset=val_dset, batch_size=1, shuffle=False, num_workers=0)#\n"
   ]
  },
  {
   "cell_type": "markdown",
   "id": "9278e8a7-711a-40b1-a642-19267dd69655",
   "metadata": {},
   "source": [
    "# train/val function\n",
    "\n",
    "A[8], A[9]\n",
    "\n",
    "- adapt the train function below, taken from Nb.2.C, and addapt it for your usecase\n",
    "- adapt the train function and create a valid function"
   ]
  },
  {
   "cell_type": "code",
   "execution_count": 39,
   "id": "89310818-036a-4d89-8297-3726a30a7411",
   "metadata": {},
   "outputs": [],
   "source": [
    "def train(model, train_loader, optimizer, loss_fun, device, epoch) -> Tuple[float, float]:\n",
    "    # TODO adapt code below\n",
    "    model.train()\n",
    "    \n",
    "    n_batches = len(train_loader)\n",
    "    for i, (image, targets, idx) in enumerate(train_loader):\n",
    "        # get batch size\n",
    "        bs = image.shape[0]\n",
    "       \n",
    "        # fully connected model: we need to flatten the images\n",
    "        x = image.view(bs,-1) if not model.is_conv else image.view(bs,3,32,32)\n",
    "            \n",
    "        # image to device\n",
    "        x = x.to(device)\n",
    "            \n",
    "        # zero grads\n",
    "        optimizer.zero_grad()\n",
    "            \n",
    "        # forward pass\n",
    "        out = model(x)\n",
    "            \n",
    "        # calc loss and gradients\n",
    "        loss = loss_fun(out, targets).mean()\n",
    "        loss.backward()\n",
    "            \n",
    "        # update\n",
    "        optimizer.step()\n",
    "    return loss.item()\n",
    "\n",
    "\n",
    "def valid(model, train_loader, optimizer, loss_fun, device, epoch) -> Tuple[float, float]:\n",
    "    # TODO: adapt code beolow\n",
    "    model.train()\n",
    "    \n",
    "    n_batches = len(train_loader)\n",
    "    for i, (image, targets, idx) in enumerate(train_loader):\n",
    "        # get batch size\n",
    "        bs = image.shape[0]\n",
    "            \n",
    "        # fully connected model: we need to flatten the images\n",
    "        x = image.view(bs,-1) if not model.is_conv else image.view(bs,3,32,32)\n",
    "            \n",
    "        # image to device\n",
    "        x = x.to(device)\n",
    "            \n",
    "        # zero grads\n",
    "        optimizer.zero_grad()\n",
    "            \n",
    "        # forward pass\n",
    "        out = model(x)\n",
    "            \n",
    "        # calc loss and gradients\n",
    "        loss = loss_fun(out, targets).mean()\n",
    "        loss.backward()\n",
    "            \n",
    "        # update\n",
    "        optimizer.step()\n",
    "    return loss.item()"
   ]
  },
  {
   "cell_type": "markdown",
   "id": "b66cd23d-0672-45fe-965d-77446ea03bfe",
   "metadata": {},
   "source": [
    "# Main\n",
    "\n",
    "Write a main function that trains and evaluates the model for a number of epochs of your choice and in the end saves the model as state dict\n",
    "\n",
    "A[10]\n",
    "\n",
    "- Write main function to train/val model and save the model as state dict\n",
    "- put the notebook together with the state dict into a folder, zip it and submit the assignment like this "
   ]
  },
  {
   "cell_type": "code",
   "execution_count": 40,
   "id": "71a6572f-2dc9-4799-b0da-5bb1814f0552",
   "metadata": {},
   "outputs": [],
   "source": [
    "# TODO: implement main loop \n",
    "def main():\n",
    "    num_epochs = 20\n",
    "    model = CNN()\n",
    "    print(model)\n",
    "    optimizer = optim.Adam(params=model.parameters(),lr=0.001)\n",
    "    ce_loss = CrossEntropyLoss()\n",
    "    \n",
    "    device = 'cpu'\n",
    "    model = model.to(device)\n",
    "    \n",
    "    tr_loss = []\n",
    "    tr_acc = []\n",
    "    ev_loss = []\n",
    "    ev_acc = []\n",
    "    for epoch in range(num_epochs):\n",
    "        loss = train(model, train_loader, optimizer, ce_loss, device, epoch)\n",
    "        tr_loss.append(loss)\n",
    "        \n",
    "        \n",
    "        # calculate accuracy\n",
    "        model.eval()\n",
    "        N = 1000\n",
    "        x, label, idx = train_dset[:N] \n",
    "        x = x.view(N,3,32,32) if model.is_conv else  x.view(N,-1) \n",
    "        out = model(x)\n",
    "        acc_ = (out.argmax(-1) == label).float().sum()/len(label)\n",
    "        tr_acc.append(acc_)\n",
    "\n",
    "\n",
    "        x, label, idx = val_dset[:N] \n",
    "        x = x.view(N,3,32,32) if model.is_conv else  x.view(N,-1)\n",
    "        model.eval()\n",
    "        out = model(x)\n",
    "        acc_ = (out.argmax(-1) == label).float().sum()/len(label)\n",
    "        ev_acc.append(acc_)\n",
    "        \n",
    "        \n",
    "        print(f'epoch [{epoch+1}/{num_epochs}]: train loss = {loss:.5f}, train acc = {tr_acc[-1]:.5f}, val acc = {ev_acc[-1]:.5f}')\n",
    "    \n",
    "    plt.plot(tr_loss, label='train loss')\n",
    "    plt.legend()\n",
    "    plt.show()\n",
    "    \n",
    "    plt.plot(tr_acc, label='train accuracy')\n",
    "    plt.plot(ev_acc, label='eval accuracy')\n",
    "    plt.title('acc')\n",
    "    plt.legend()\n",
    "    plt.show()\n",
    "    return model"
   ]
  },
  {
   "cell_type": "code",
   "execution_count": null,
   "id": "2b87ebde",
   "metadata": {},
   "outputs": [],
   "source": []
  },
  {
   "cell_type": "code",
   "execution_count": 43,
   "id": "89ed17f9-9d9b-43e8-b977-a9d7ce2cfd5f",
   "metadata": {},
   "outputs": [
    {
     "name": "stdout",
     "output_type": "stream",
     "text": [
      "CNN(\n",
      "  (conv1): Sequential(\n",
      "    (0): Conv2d(3, 16, kernel_size=(5, 5), stride=(1, 1), padding=(2, 2))\n",
      "    (1): ReLU()\n",
      "    (2): MaxPool2d(kernel_size=2, stride=2, padding=0, dilation=1, ceil_mode=False)\n",
      "  )\n",
      "  (conv2): Sequential(\n",
      "    (0): Conv2d(16, 32, kernel_size=(5, 5), stride=(1, 1), padding=(2, 2))\n",
      "    (1): ReLU()\n",
      "    (2): MaxPool2d(kernel_size=2, stride=2, padding=0, dilation=1, ceil_mode=False)\n",
      "  )\n",
      "  (out): Linear(in_features=2048, out_features=10, bias=True)\n",
      ")\n",
      "epoch [1/20]: train loss = 2.57489, train acc = 0.38400, val acc = 0.34500\n",
      "epoch [2/20]: train loss = 2.34374, train acc = 0.38100, val acc = 0.34400\n",
      "epoch [3/20]: train loss = 2.05976, train acc = 0.54900, val acc = 0.43900\n",
      "epoch [4/20]: train loss = 0.24469, train acc = 0.58800, val acc = 0.45800\n",
      "epoch [5/20]: train loss = 0.03347, train acc = 0.64700, val acc = 0.49900\n",
      "epoch [6/20]: train loss = 1.80697, train acc = 0.60500, val acc = 0.45800\n",
      "epoch [7/20]: train loss = 0.13744, train acc = 0.66600, val acc = 0.48800\n",
      "epoch [8/20]: train loss = 1.45498, train acc = 0.66100, val acc = 0.44800\n",
      "epoch [9/20]: train loss = 2.17520, train acc = 0.63400, val acc = 0.42300\n",
      "epoch [10/20]: train loss = 0.33474, train acc = 0.72500, val acc = 0.45100\n",
      "epoch [11/20]: train loss = 0.00005, train acc = 0.74400, val acc = 0.46700\n",
      "epoch [12/20]: train loss = 0.73730, train acc = 0.78800, val acc = 0.45800\n",
      "epoch [13/20]: train loss = 0.00615, train acc = 0.75200, val acc = 0.45100\n",
      "epoch [14/20]: train loss = 0.00194, train acc = 0.78100, val acc = 0.45300\n",
      "epoch [15/20]: train loss = 1.12223, train acc = 0.78400, val acc = 0.42500\n",
      "epoch [16/20]: train loss = 1.88461, train acc = 0.82500, val acc = 0.46800\n",
      "epoch [17/20]: train loss = 2.88170, train acc = 0.84700, val acc = 0.44800\n",
      "epoch [18/20]: train loss = 0.08960, train acc = 0.86100, val acc = 0.45800\n",
      "epoch [19/20]: train loss = 3.67261, train acc = 0.80300, val acc = 0.43800\n",
      "epoch [20/20]: train loss = 0.05472, train acc = 0.79200, val acc = 0.43900\n"
     ]
    },
    {
     "data": {
      "image/png": "[encoded data removed]",
      "text/plain": [
       "<Figure size 640x480 with 1 Axes>"
      ]
     },
     "metadata": {},
     "output_type": "display_data"
    },
    {
     "data": {
      "image/png": "[encoded data removed]",
      "text/plain": [
       "<Figure size 640x480 with 1 Axes>"
      ]
     },
     "metadata": {},
     "output_type": "display_data"
    }
   ],
   "source": [
    "# run training and\n",
    "model = main()\n",
    "\n",
    "# TODO: save the model\n",
    "st = model.state_dict()\n",
    "torch.save(st, 'model.pt')"
   ]
  },
  {
   "cell_type": "code",
   "execution_count": 46,
   "id": "169bf695",
   "metadata": {},
   "outputs": [],
   "source": [
    "model\n",
    "state_dict = torch.load('model.pt')\n",
    "net_new = CNN()"
   ]
  },
  {
   "cell_type": "code",
   "execution_count": 47,
   "id": "11042b75",
   "metadata": {},
   "outputs": [
    {
     "data": {
      "text/plain": [
       "<All keys matched successfully>"
      ]
     },
     "execution_count": 47,
     "metadata": {},
     "output_type": "execute_result"
    }
   ],
   "source": [
    "net_new.load_state_dict(state_dict)"
   ]
  },
  {
   "cell_type": "code",
   "execution_count": null,
   "id": "0994fba6",
   "metadata": {},
   "outputs": [],
   "source": []
  }
 ],
 "metadata": {
  "kernelspec": {
   "display_name": "Python 3 (ipykernel)",
   "language": "python",
   "name": "python3"
  },
  "language_info": {
   "codemirror_mode": {
    "name": "ipython",
    "version": 3
   },
   "file_extension": ".py",
   "mimetype": "text/x-python",
   "name": "python",
   "nbconvert_exporter": "python",
   "pygments_lexer": "ipython3",
   "version": "3.9.13"
  }
 },
 "nbformat": 4,
 "nbformat_minor": 5
}
