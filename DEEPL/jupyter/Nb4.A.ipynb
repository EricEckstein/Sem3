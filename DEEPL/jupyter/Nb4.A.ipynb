{
 "cells": [
  {
   "cell_type": "markdown",
   "id": "d4512760-0cd7-4583-baf3-425f8b288a1a",
   "metadata": {},
   "source": [
    "# Pretrained models"
   ]
  },
  {
   "cell_type": "markdown",
   "id": "40b2fc8d-00d2-4222-88d2-55bb3c8048cd",
   "metadata": {},
   "source": [
    "## Alex net: investigating the filters\n",
    "\n",
    "Torch vision models: https://pytorch.org/vision/stable/models.html"
   ]
  },
  {
   "cell_type": "code",
   "execution_count": null,
   "id": "345d9ace-8877-4c48-b7f7-e9c4643dc837",
   "metadata": {},
   "outputs": [],
   "source": [
    "# ! pip install --upgrade torch torchvision"
   ]
  },
  {
   "cell_type": "code",
   "execution_count": 4,
   "id": "c34a8204-2ee2-46c3-a3db-d16d635ee3d1",
   "metadata": {},
   "outputs": [],
   "source": [
    "import torch\n",
    "import matplotlib.pyplot as plt\n",
    "from torchvision.utils import make_grid\n",
    "from PIL import Image\n",
    "import numpy as np\n",
    "\n",
    "# import model from torch vision\n",
    "from torchvision.models import alexnet, AlexNet_Weights"
   ]
  },
  {
   "cell_type": "code",
   "execution_count": 2,
   "id": "80e495a9-cdac-4339-be51-16b90b2eb171",
   "metadata": {},
   "outputs": [
    {
     "name": "stderr",
     "output_type": "stream",
     "text": [
      "C:\\Users\\EricEckstein\\miniconda3\\envs\\deepl\\lib\\site-packages\\torchvision\\models\\_utils.py:223: UserWarning: Arguments other than a weight enum or `None` for 'weights' are deprecated since 0.13 and will be removed in 0.15. The current behavior is equivalent to passing `weights=AlexNet_Weights.IMAGENET1K_V1`. You can also use `weights=AlexNet_Weights.DEFAULT` to get the most up-to-date weights.\n",
      "  warnings.warn(msg)\n",
      "Downloading: \"https://download.pytorch.org/models/alexnet-owt-7be5be79.pth\" to C:\\Users\\EricEckstein/.cache\\torch\\hub\\checkpoints\\alexnet-owt-7be5be79.pth\n",
      "10.2%IOPub message rate exceeded.\n",
      "The notebook server will temporarily stop sending output\n",
      "to the client in order to avoid crashing it.\n",
      "To change this limit, set the config variable\n",
      "`--NotebookApp.iopub_msg_rate_limit`.\n",
      "\n",
      "Current values:\n",
      "NotebookApp.iopub_msg_rate_limit=1000.0 (msgs/sec)\n",
      "NotebookApp.rate_limit_window=3.0 (secs)\n",
      "\n",
      "23.3%IOPub message rate exceeded.\n",
      "The notebook server will temporarily stop sending output\n",
      "to the client in order to avoid crashing it.\n",
      "To change this limit, set the config variable\n",
      "`--NotebookApp.iopub_msg_rate_limit`.\n",
      "\n",
      "Current values:\n",
      "NotebookApp.iopub_msg_rate_limit=1000.0 (msgs/sec)\n",
      "NotebookApp.rate_limit_window=3.0 (secs)\n",
      "\n",
      "36.8%IOPub message rate exceeded.\n",
      "The notebook server will temporarily stop sending output\n",
      "to the client in order to avoid crashing it.\n",
      "To change this limit, set the config variable\n",
      "`--NotebookApp.iopub_msg_rate_limit`.\n",
      "\n",
      "Current values:\n",
      "NotebookApp.iopub_msg_rate_limit=1000.0 (msgs/sec)\n",
      "NotebookApp.rate_limit_window=3.0 (secs)\n",
      "\n",
      "50.8%IOPub message rate exceeded.\n",
      "The notebook server will temporarily stop sending output\n",
      "to the client in order to avoid crashing it.\n",
      "To change this limit, set the config variable\n",
      "`--NotebookApp.iopub_msg_rate_limit`.\n",
      "\n",
      "Current values:\n",
      "NotebookApp.iopub_msg_rate_limit=1000.0 (msgs/sec)\n",
      "NotebookApp.rate_limit_window=3.0 (secs)\n",
      "\n",
      "64.3%IOPub message rate exceeded.\n",
      "The notebook server will temporarily stop sending output\n",
      "to the client in order to avoid crashing it.\n",
      "To change this limit, set the config variable\n",
      "`--NotebookApp.iopub_msg_rate_limit`.\n",
      "\n",
      "Current values:\n",
      "NotebookApp.iopub_msg_rate_limit=1000.0 (msgs/sec)\n",
      "NotebookApp.rate_limit_window=3.0 (secs)\n",
      "\n",
      "77.3%IOPub message rate exceeded.\n",
      "The notebook server will temporarily stop sending output\n",
      "to the client in order to avoid crashing it.\n",
      "To change this limit, set the config variable\n",
      "`--NotebookApp.iopub_msg_rate_limit`.\n",
      "\n",
      "Current values:\n",
      "NotebookApp.iopub_msg_rate_limit=1000.0 (msgs/sec)\n",
      "NotebookApp.rate_limit_window=3.0 (secs)\n",
      "\n",
      "90.7%IOPub message rate exceeded.\n",
      "The notebook server will temporarily stop sending output\n",
      "to the client in order to avoid crashing it.\n",
      "To change this limit, set the config variable\n",
      "`--NotebookApp.iopub_msg_rate_limit`.\n",
      "\n",
      "Current values:\n",
      "NotebookApp.iopub_msg_rate_limit=1000.0 (msgs/sec)\n",
      "NotebookApp.rate_limit_window=3.0 (secs)\n",
      "\n",
      "100.0%\n"
     ]
    },
    {
     "data": {
      "text/plain": [
       "AlexNet(\n",
       "  (features): Sequential(\n",
       "    (0): Conv2d(3, 64, kernel_size=(11, 11), stride=(4, 4), padding=(2, 2))\n",
       "    (1): ReLU(inplace=True)\n",
       "    (2): MaxPool2d(kernel_size=3, stride=2, padding=0, dilation=1, ceil_mode=False)\n",
       "    (3): Conv2d(64, 192, kernel_size=(5, 5), stride=(1, 1), padding=(2, 2))\n",
       "    (4): ReLU(inplace=True)\n",
       "    (5): MaxPool2d(kernel_size=3, stride=2, padding=0, dilation=1, ceil_mode=False)\n",
       "    (6): Conv2d(192, 384, kernel_size=(3, 3), stride=(1, 1), padding=(1, 1))\n",
       "    (7): ReLU(inplace=True)\n",
       "    (8): Conv2d(384, 256, kernel_size=(3, 3), stride=(1, 1), padding=(1, 1))\n",
       "    (9): ReLU(inplace=True)\n",
       "    (10): Conv2d(256, 256, kernel_size=(3, 3), stride=(1, 1), padding=(1, 1))\n",
       "    (11): ReLU(inplace=True)\n",
       "    (12): MaxPool2d(kernel_size=3, stride=2, padding=0, dilation=1, ceil_mode=False)\n",
       "  )\n",
       "  (avgpool): AdaptiveAvgPool2d(output_size=(6, 6))\n",
       "  (classifier): Sequential(\n",
       "    (0): Dropout(p=0.5, inplace=False)\n",
       "    (1): Linear(in_features=9216, out_features=4096, bias=True)\n",
       "    (2): ReLU(inplace=True)\n",
       "    (3): Dropout(p=0.5, inplace=False)\n",
       "    (4): Linear(in_features=4096, out_features=4096, bias=True)\n",
       "    (5): ReLU(inplace=True)\n",
       "    (6): Linear(in_features=4096, out_features=1000, bias=True)\n",
       "  )\n",
       ")"
      ]
     },
     "execution_count": 2,
     "metadata": {},
     "output_type": "execute_result"
    }
   ],
   "source": [
    "# load model\n",
    "net = alexnet(weights=AlexNet_Weights)\n",
    "net"
   ]
  },
  {
   "cell_type": "code",
   "execution_count": 5,
   "id": "e9822312-7d15-49ad-8504-60aba1fc7d74",
   "metadata": {},
   "outputs": [
    {
     "data": {
      "text/plain": [
       "2469696"
      ]
     },
     "execution_count": 5,
     "metadata": {},
     "output_type": "execute_result"
    }
   ],
   "source": [
    "# number of parameters in the conv part\n",
    "n_param_conv = torch.nn.utils.parameters_to_vector(net.features.parameters())\n",
    "len(n_param_conv)"
   ]
  },
  {
   "cell_type": "code",
   "execution_count": 6,
   "id": "ea583190-62d1-4d34-9ad8-12c425012740",
   "metadata": {},
   "outputs": [
    {
     "data": {
      "text/plain": [
       "58631144"
      ]
     },
     "execution_count": 6,
     "metadata": {},
     "output_type": "execute_result"
    }
   ],
   "source": [
    "# number of parameters in the fully connected part\n",
    "n_param_fully = torch.nn.utils.parameters_to_vector(net.classifier.parameters())\n",
    "len(n_param_fully)"
   ]
  },
  {
   "cell_type": "code",
   "execution_count": 7,
   "id": "6d66bf9c-6e49-45c2-b207-38142573c429",
   "metadata": {},
   "outputs": [
    {
     "data": {
      "text/plain": [
       "0.04212259614105432"
      ]
     },
     "execution_count": 7,
     "metadata": {},
     "output_type": "execute_result"
    }
   ],
   "source": [
    "# ratio conv/fully \n",
    "len(n_param_conv)/len(n_param_fully)"
   ]
  },
  {
   "cell_type": "code",
   "execution_count": 8,
   "id": "63dd4b6c-6912-4f12-887e-494617bb1fb9",
   "metadata": {},
   "outputs": [
    {
     "data": {
      "text/plain": [
       "torch.Size([64, 3, 11, 11])"
      ]
     },
     "execution_count": 8,
     "metadata": {},
     "output_type": "execute_result"
    }
   ],
   "source": [
    "# print dimension of conv weight shape\n",
    "net.features[0].weight.shape"
   ]
  },
  {
   "cell_type": "code",
   "execution_count": 9,
   "id": "7b0a3bc3-e545-4928-98f6-732cbdab885d",
   "metadata": {},
   "outputs": [
    {
     "data": {
      "text/plain": [
       "torch.Size([64])"
      ]
     },
     "execution_count": 9,
     "metadata": {},
     "output_type": "execute_result"
    }
   ],
   "source": [
    "net.features[0].bias.shape"
   ]
  },
  {
   "cell_type": "code",
   "execution_count": 10,
   "id": "bcb36826-49d2-4cbe-adbe-18fbea54c00f",
   "metadata": {},
   "outputs": [
    {
     "name": "stderr",
     "output_type": "stream",
     "text": [
      "Clipping input data to the valid range for imshow with RGB data ([0..1] for floats or [0..255] for integers).\n"
     ]
    },
    {
     "data": {
      "text/plain": [
       "<matplotlib.image.AxesImage at 0x21bd1954460>"
      ]
     },
     "execution_count": 10,
     "metadata": {},
     "output_type": "execute_result"
    },
    {
     "data": {
      "image/png": "[encoded data removed]",
      "text/plain": [
       "<Figure size 480x480 with 1 Axes>"
      ]
     },
     "metadata": {},
     "output_type": "display_data"
    }
   ],
   "source": [
    "# visualize first filter\n",
    "plt.matshow(\n",
    "    net.features[0].weight[0].data.permute(1,2,0).numpy()\n",
    ")"
   ]
  },
  {
   "cell_type": "code",
   "execution_count": 11,
   "id": "4179f943-453b-4421-904e-b16a066da990",
   "metadata": {},
   "outputs": [],
   "source": [
    "grid = make_grid(net.features[0].weight.data, nrow=16)"
   ]
  },
  {
   "cell_type": "code",
   "execution_count": 12,
   "id": "0c1134fb-b216-498b-b543-98fc0a72a01b",
   "metadata": {},
   "outputs": [
    {
     "name": "stderr",
     "output_type": "stream",
     "text": [
      "Clipping input data to the valid range for imshow with RGB data ([0..1] for floats or [0..255] for integers).\n"
     ]
    },
    {
     "data": {
      "text/plain": [
       "<matplotlib.image.AxesImage at 0x21be0e3bbe0>"
      ]
     },
     "execution_count": 12,
     "metadata": {},
     "output_type": "execute_result"
    },
    {
     "data": {
      "image/png": "[encoded data removed]",
      "text/plain": [
       "<Figure size 1600x411.429 with 1 Axes>"
      ]
     },
     "metadata": {},
     "output_type": "display_data"
    }
   ],
   "source": [
    "plt.matshow(grid.permute(1,2,0))"
   ]
  },
  {
   "cell_type": "code",
   "execution_count": 13,
   "id": "e97bcdc4-19de-4a78-a8ed-d69186d8c8b0",
   "metadata": {},
   "outputs": [
    {
     "ename": "FileNotFoundError",
     "evalue": "[Errno 2] No such file or directory: '/home/hubert/Lecture/Resources/football_1.jpeg'",
     "output_type": "error",
     "traceback": [
      "\u001b[1;31m---------------------------------------------------------------------------\u001b[0m",
      "\u001b[1;31mFileNotFoundError\u001b[0m                         Traceback (most recent call last)",
      "Cell \u001b[1;32mIn [13], line 3\u001b[0m\n\u001b[0;32m      1\u001b[0m \u001b[38;5;66;03m# img_path = '/home/hubert/Lecture/Resources/dalle2.jpg'\u001b[39;00m\n\u001b[0;32m      2\u001b[0m img_path \u001b[38;5;241m=\u001b[39m \u001b[38;5;124m'\u001b[39m\u001b[38;5;124m/home/hubert/Lecture/Resources/football_1.jpeg\u001b[39m\u001b[38;5;124m'\u001b[39m\n\u001b[1;32m----> 3\u001b[0m img \u001b[38;5;241m=\u001b[39m \u001b[43mImage\u001b[49m\u001b[38;5;241;43m.\u001b[39;49m\u001b[43mopen\u001b[49m\u001b[43m(\u001b[49m\u001b[43mimg_path\u001b[49m\u001b[43m)\u001b[49m\n\u001b[0;32m      4\u001b[0m img\u001b[38;5;241m.\u001b[39mshow()\n\u001b[0;32m      5\u001b[0m img_np \u001b[38;5;241m=\u001b[39m np\u001b[38;5;241m.\u001b[39marray(img)\n",
      "File \u001b[1;32m~\\miniconda3\\envs\\deepl\\lib\\site-packages\\PIL\\Image.py:3092\u001b[0m, in \u001b[0;36mopen\u001b[1;34m(fp, mode, formats)\u001b[0m\n\u001b[0;32m   3089\u001b[0m     filename \u001b[38;5;241m=\u001b[39m fp\n\u001b[0;32m   3091\u001b[0m \u001b[38;5;28;01mif\u001b[39;00m filename:\n\u001b[1;32m-> 3092\u001b[0m     fp \u001b[38;5;241m=\u001b[39m \u001b[43mbuiltins\u001b[49m\u001b[38;5;241;43m.\u001b[39;49m\u001b[43mopen\u001b[49m\u001b[43m(\u001b[49m\u001b[43mfilename\u001b[49m\u001b[43m,\u001b[49m\u001b[43m \u001b[49m\u001b[38;5;124;43m\"\u001b[39;49m\u001b[38;5;124;43mrb\u001b[39;49m\u001b[38;5;124;43m\"\u001b[39;49m\u001b[43m)\u001b[49m\n\u001b[0;32m   3093\u001b[0m     exclusive_fp \u001b[38;5;241m=\u001b[39m \u001b[38;5;28;01mTrue\u001b[39;00m\n\u001b[0;32m   3095\u001b[0m \u001b[38;5;28;01mtry\u001b[39;00m:\n",
      "\u001b[1;31mFileNotFoundError\u001b[0m: [Errno 2] No such file or directory: '/home/hubert/Lecture/Resources/football_1.jpeg'"
     ]
    }
   ],
   "source": [
    "# img_path = '/home/hubert/Lecture/Resources/dalle2.jpg'\n",
    "img_path = '/home/hubert/Lecture/Resources/football_1.jpeg'\n",
    "img = Image.open(img_path)\n",
    "img.show()\n",
    "img_np = np.array(img)\n",
    "img_np.shape"
   ]
  },
  {
   "cell_type": "code",
   "execution_count": 14,
   "id": "678c98e2-560c-4c7e-8dda-175223f6df13",
   "metadata": {},
   "outputs": [
    {
     "ename": "NameError",
     "evalue": "name 'img_np' is not defined",
     "output_type": "error",
     "traceback": [
      "\u001b[1;31m---------------------------------------------------------------------------\u001b[0m",
      "\u001b[1;31mNameError\u001b[0m                                 Traceback (most recent call last)",
      "Cell \u001b[1;32mIn [14], line 1\u001b[0m\n\u001b[1;32m----> 1\u001b[0m img_torch \u001b[38;5;241m=\u001b[39m torch\u001b[38;5;241m.\u001b[39mtensor(\u001b[43mimg_np\u001b[49m)\u001b[38;5;241m.\u001b[39mpermute(\u001b[38;5;241m2\u001b[39m,\u001b[38;5;241m0\u001b[39m,\u001b[38;5;241m1\u001b[39m)[\u001b[38;5;28;01mNone\u001b[39;00m]\u001b[38;5;241m.\u001b[39mfloat()\n\u001b[0;32m      2\u001b[0m img_torch\u001b[38;5;241m.\u001b[39mshape\n",
      "\u001b[1;31mNameError\u001b[0m: name 'img_np' is not defined"
     ]
    }
   ],
   "source": [
    "img_torch = torch.tensor(img_np).permute(2,0,1)[None].float()\n",
    "img_torch.shape"
   ]
  },
  {
   "cell_type": "code",
   "execution_count": null,
   "id": "7ecab70e-880e-44b1-ae9f-6a29dc379b12",
   "metadata": {},
   "outputs": [],
   "source": [
    "out = net(img_torch)\n",
    "out.shape"
   ]
  },
  {
   "cell_type": "code",
   "execution_count": null,
   "id": "76a41c2b-6dd3-4232-9c90-4303bb3d91da",
   "metadata": {},
   "outputs": [],
   "source": [
    "out.argmax(-1)"
   ]
  },
  {
   "cell_type": "code",
   "execution_count": null,
   "id": "ce7366ce-321c-475b-88ed-d9be5a84d005",
   "metadata": {},
   "outputs": [],
   "source": [
    "out.topk(5)"
   ]
  },
  {
   "cell_type": "code",
   "execution_count": null,
   "id": "dd6108f1-8547-4e76-aa36-0554b6235d96",
   "metadata": {},
   "outputs": [],
   "source": [
    "img.thumbnail((256,256))\n",
    "img.show()"
   ]
  },
  {
   "cell_type": "code",
   "execution_count": null,
   "id": "29f7815e-0931-4d11-b3c1-b090589e1afe",
   "metadata": {},
   "outputs": [],
   "source": [
    "img_torch2 = torch.tensor(img_np).permute(2,0,1)[None].float()\n",
    "img_torch2.shape\n",
    "out = net(img_torch)\n",
    "out.topk(5)"
   ]
  },
  {
   "cell_type": "markdown",
   "id": "c94f6525-fbaf-4b5d-b9ad-9a84bd495230",
   "metadata": {},
   "source": [
    "## Mobilenet v3"
   ]
  },
  {
   "cell_type": "code",
   "execution_count": null,
   "id": "97ceaef2-4a8c-47dd-bbcc-6aec4874f411",
   "metadata": {},
   "outputs": [],
   "source": [
    "# import model from torch vision\n",
    "from torchvision.models import mobilenet_v3_small, MobileNet_V3_Small_Weights"
   ]
  },
  {
   "cell_type": "code",
   "execution_count": null,
   "id": "4d2bd406-24be-43e2-86bd-100ae51ed111",
   "metadata": {},
   "outputs": [],
   "source": [
    "# load model\n",
    "mob_net = mobilenet_v3_small(weights=MobileNet_V3_Small_Weights.IMAGENET1K_V1)\n",
    "mob_net"
   ]
  },
  {
   "cell_type": "code",
   "execution_count": null,
   "id": "e5ab8607-5bed-4346-83f4-6167c7a39ab0",
   "metadata": {},
   "outputs": [],
   "source": [
    "n_param_mob = torch.nn.utils.parameters_to_vector(mob_net.parameters())\n",
    "len(n_param_mob)"
   ]
  },
  {
   "cell_type": "code",
   "execution_count": null,
   "id": "ba862e1a-cbd2-4653-8ec8-e0b2efa37418",
   "metadata": {},
   "outputs": [],
   "source": [
    "grid = make_grid(mob_net.features[0][0].weight.data, nrow=16)\n",
    "plt.matshow(grid.permute(1,2,0))"
   ]
  },
  {
   "cell_type": "code",
   "execution_count": null,
   "id": "dba0bb9d-7def-47da-b864-53264f494b3e",
   "metadata": {},
   "outputs": [],
   "source": [
    "out = mob_net(img_torch)\n",
    "out.shape"
   ]
  },
  {
   "cell_type": "code",
   "execution_count": null,
   "id": "a6cff679-ce01-451a-b417-9b6952f3fd15",
   "metadata": {},
   "outputs": [],
   "source": [
    "out.argmax(-1)"
   ]
  },
  {
   "cell_type": "code",
   "execution_count": null,
   "id": "8426c771-2135-41f6-a5f2-fb5e50b7b014",
   "metadata": {},
   "outputs": [],
   "source": [
    "out.topk(5)"
   ]
  },
  {
   "cell_type": "markdown",
   "id": "2fe8ca80-9655-4177-b06d-5cae735a6980",
   "metadata": {},
   "source": [
    "## Pytorch Hub \n",
    "https://pytorch.org/hub/research-models"
   ]
  },
  {
   "cell_type": "code",
   "execution_count": null,
   "id": "a368da21-990f-4a71-89b3-702081d32b79",
   "metadata": {},
   "outputs": [],
   "source": [
    "AlexNe"
   ]
  },
  {
   "cell_type": "code",
   "execution_count": null,
   "id": "1e790157-d8d6-49d7-a830-d80bf4623c93",
   "metadata": {},
   "outputs": [],
   "source": []
  }
 ],
 "metadata": {
  "kernelspec": {
   "display_name": "Python 3 (ipykernel)",
   "language": "python",
   "name": "python3"
  },
  "language_info": {
   "codemirror_mode": {
    "name": "ipython",
    "version": 3
   },
   "file_extension": ".py",
   "mimetype": "text/x-python",
   "name": "python",
   "nbconvert_exporter": "python",
   "pygments_lexer": "ipython3",
   "version": "3.9.13"
  }
 },
 "nbformat": 4,
 "nbformat_minor": 5
}
